{
 "metadata": {
  "language_info": {
   "codemirror_mode": {
    "name": "ipython",
    "version": 3
   },
   "file_extension": ".py",
   "mimetype": "text/x-python",
   "name": "python",
   "nbconvert_exporter": "python",
   "pygments_lexer": "ipython3",
   "version": "3.9.0-final"
  },
  "orig_nbformat": 2,
  "kernelspec": {
   "name": "python3",
   "display_name": "Python 3.9.0 64-bit",
   "metadata": {
    "interpreter": {
     "hash": "aee8b7b246df8f9039afb4144a1f6fd8d2ca17a180786b69acc140d282b71a49"
    }
   }
  }
 },
 "nbformat": 4,
 "nbformat_minor": 2,
 "cells": [
  {
   "cell_type": "code",
   "execution_count": 10,
   "metadata": {},
   "outputs": [
    {
     "output_type": "stream",
     "name": "stdout",
     "text": [
      "         status                      city  \\\n0     published                   Bondues   \n1     published                Bourgbarré   \n2     published                   Pontivy   \n3     published                Bourgbarré   \n4     published                     Laval   \n...         ...                       ...   \n8862  published  Saint-Julien-en-Genevois   \n8863  published                     Cergy   \n8864  published                  Suresnes   \n8865  published                     Paris   \n8866  published                     Paris   \n\n                                             job_title  organization_id  \\\n0     Stagiaire (H/F) Assistant Marketing Nutritionnel                1   \n1             Stage(H/F) Supply Chain- Bourgbarré (35)                1   \n2              Stagiaire H/F Ingénieur Qualité Pontivy                1   \n3                Stage (H/F) Qualité - Bourgbarré (35)                1   \n4         Stage (HF) Ingé Production -Process (53) H/F                1   \n...                                                ...              ...   \n8862               Responsable construction savoie h/f             1341   \n8863      Charge de clientele grands comptes paris h/f             1342   \n8864                       Ingénieur planning lead H/F             1343   \n8865                       Développeur Foncier h/f IDF             1344   \n8866     Directeur (trice) des ressources humaines H/F             1345   \n\n       contracts                                        description  \\\n0     Stage6mois  The LACTALIS Group (nearly 75,000 employees, m...   \n1     Stage6mois  Vous souhaitez faire vos premiers pas avec un ...   \n2     Stage6mois  Pour Lactalis, n°1 mondial du lait, la vraie r...   \n3     Stage6mois  Vous souhaitez faire vos premiers pas avec un ...   \n4     Stage6mois  Vous souhaitez faire vos premiers pas avec un ...   \n...          ...                                                ...   \n8862         CDI  FRANCO SUISSE DEUX LACS, promoteur immobilier ...   \n8863         CDI  Société française d'envergure internationale, ...   \n8864         CDI  Spécialisé dans la réalisation de projets clés...   \n8865         CDI  L'activité de Gotham trouve sa force dans la d...   \n8866         CDI  Groupe du secteur Internet / IT reconnu pour s...   \n\n                                                 skills  skill_a/b testing  \\\n0                      {'skills': {'communication': 1}}                  0   \n1                                        {'skills': {}}                  0   \n2     {'skills': {'collaboration': 1, 'certification...                  0   \n3       {'skills': {'communication': 1, 'autonome': 1}}                  0   \n4                                        {'skills': {}}                  0   \n...                                                 ...                ...   \n8862                                     {'skills': {}}                  0   \n8863                                     {'skills': {}}                  0   \n8864  {'skills': {'go': 1, 'communication': 1, 'repo...                  0   \n8865    {'skills': {'r\\xc3\\xa9seau': 1, 'ensemble': 1}}                  0   \n8866  {'skills': {'go': 1, 'communication': 1, 'ense...                  0   \n\n      skill_adobe illustrator  skill_adobe photoshop  ...  skill_windows  \\\n0                           0                      0  ...              0   \n1                           0                      0  ...              0   \n2                           0                      0  ...              0   \n3                           0                      0  ...              0   \n4                           0                      0  ...              0   \n...                       ...                    ...  ...            ...   \n8862                        0                      0  ...              0   \n8863                        0                      0  ...              0   \n8864                        0                      0  ...              0   \n8865                        0                      0  ...              0   \n8866                        0                      0  ...              0   \n\n      skill_windows   skill_word  skill_wordpress  skill_wpf  skill_wsdl  \\\n0                  0           0                0          0           0   \n1                  0           0                0          0           0   \n2                  0           0                0          0           0   \n3                  0           0                0          0           0   \n4                  0           0                0          0           0   \n...              ...         ...              ...        ...         ...   \n8862               0           0                0          0           0   \n8863               0           0                0          0           0   \n8864               0           0                0          0           0   \n8865               0           0                0          0           0   \n8866               0           0                0          0           0   \n\n      skill_xaml  skill_xhtml  skill_xml  total_skills  \n0              0            0          0             1  \n1              0            0          0             0  \n2              0            0          0             2  \n3              0            0          0             2  \n4              0            0          0             0  \n...          ...          ...        ...           ...  \n8862           0            0          0             0  \n8863           0            0          0             0  \n8864           0            0          0             4  \n8865           0            0          0             1  \n8866           0            0          0             5  \n\n[8867 rows x 271 columns]\n"
     ]
    }
   ],
   "source": [
    "import pandas as pd\n",
    "\n",
    "df = pd.read_csv('job_listings.csv')\n",
    "\n",
    "print(df)\n",
    "\n"
   ]
  },
  {
   "cell_type": "code",
   "execution_count": null,
   "metadata": {},
   "outputs": [],
   "source": []
  }
 ]
}